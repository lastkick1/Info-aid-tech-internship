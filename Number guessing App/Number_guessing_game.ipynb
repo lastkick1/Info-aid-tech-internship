{
 "cells": [
  {
   "cell_type": "code",
   "execution_count": null,
   "id": "343097a9",
   "metadata": {},
   "outputs": [
    {
     "name": "stdout",
     "output_type": "stream",
     "text": [
      "Welcome to the Number Guessing Game!\n",
      "I'm thinking of a number between 1 and 100.\n",
      "Can you guess it within 10 attempts?\n"
     ]
    }
   ],
   "source": [
    "import random\n",
    "\n",
    "def welcome():\n",
    "    print(\"Welcome to the Number Guessing Game!\")\n",
    "    print(\"I'm thinking of a number between 1 and 100.\")\n",
    "    print(\"Can you guess it within 10 attempts?\")\n",
    "\n",
    "def get_player_name():\n",
    "    name = input(\"Enter your name: \")\n",
    "    print(f\"Hello, {name}! Let's start the game.\")\n",
    "\n",
    "def play_game():\n",
    "    number_to_guess = random.randint(1, 100)\n",
    "    attempts = 0\n",
    "\n",
    "    while attempts < 10:\n",
    "        guess = int(input(\"Enter your guess: \"))\n",
    "        attempts += 1\n",
    "\n",
    "        if guess == number_to_guess:\n",
    "            print(f\"Congratulations! You guessed the number {number_to_guess} correctly in {attempts} attempts.\")\n",
    "            break\n",
    "        elif guess < number_to_guess:\n",
    "            print(\"Too low. Try again.\")\n",
    "        else:\n",
    "            print(\"Too high. Try again.\")\n",
    "\n",
    "    if attempts == 10:\n",
    "        print(f\"Sorry, you've reached the maximum number of attempts. The correct number was {number_to_guess}.\")\n",
    "\n",
    "def play_again():\n",
    "    return input(\"Do you want to play again? (yes/no): \").lower() == 'yes'\n",
    "\n",
    "if __name__ == \"__main__\":\n",
    "    while True:\n",
    "        welcome()\n",
    "        get_player_name()\n",
    "        play_game()\n",
    "\n",
    "        if not play_again():\n",
    "            print(\"Thanks for playing. Goodbye!\")\n",
    "            break\n"
   ]
  },
  {
   "cell_type": "code",
   "execution_count": null,
   "id": "042fbdf9",
   "metadata": {},
   "outputs": [],
   "source": []
  },
  {
   "cell_type": "code",
   "execution_count": null,
   "id": "407bf81c",
   "metadata": {},
   "outputs": [],
   "source": []
  },
  {
   "cell_type": "code",
   "execution_count": null,
   "id": "8fcc27d8",
   "metadata": {},
   "outputs": [],
   "source": []
  },
  {
   "cell_type": "code",
   "execution_count": null,
   "id": "71d125c6",
   "metadata": {},
   "outputs": [],
   "source": []
  },
  {
   "cell_type": "code",
   "execution_count": null,
   "id": "e8e0a4a3",
   "metadata": {},
   "outputs": [],
   "source": []
  },
  {
   "cell_type": "code",
   "execution_count": null,
   "id": "375533c0",
   "metadata": {},
   "outputs": [],
   "source": []
  },
  {
   "cell_type": "code",
   "execution_count": null,
   "id": "2ed2b74a",
   "metadata": {},
   "outputs": [],
   "source": []
  },
  {
   "cell_type": "code",
   "execution_count": null,
   "id": "c7366885",
   "metadata": {},
   "outputs": [],
   "source": []
  },
  {
   "cell_type": "code",
   "execution_count": null,
   "id": "d299ced6",
   "metadata": {},
   "outputs": [],
   "source": []
  },
  {
   "cell_type": "code",
   "execution_count": null,
   "id": "2306193d",
   "metadata": {},
   "outputs": [],
   "source": []
  },
  {
   "cell_type": "code",
   "execution_count": null,
   "id": "d6287e79",
   "metadata": {},
   "outputs": [],
   "source": []
  },
  {
   "cell_type": "code",
   "execution_count": null,
   "id": "2b5850c4",
   "metadata": {},
   "outputs": [],
   "source": []
  }
 ],
 "metadata": {
  "kernelspec": {
   "display_name": "Python 3 (ipykernel)",
   "language": "python",
   "name": "python3"
  },
  "language_info": {
   "codemirror_mode": {
    "name": "ipython",
    "version": 3
   },
   "file_extension": ".py",
   "mimetype": "text/x-python",
   "name": "python",
   "nbconvert_exporter": "python",
   "pygments_lexer": "ipython3",
   "version": "3.11.4"
  }
 },
 "nbformat": 4,
 "nbformat_minor": 5
}
