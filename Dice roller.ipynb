{
 "cells": [
  {
   "cell_type": "code",
   "execution_count": null,
   "id": "11452658",
   "metadata": {},
   "outputs": [],
   "source": [
    "import random\n",
    "\n",
    "def roll_dice(num_dice):\n",
    "    return [random.randint(1, 6) for _ in range(num_dice)]\n",
    "\n",
    "def main():\n",
    "    print(\"Welcome to the Dice Rolling App!\")\n",
    "    \n",
    "\n",
    "    while True:\n",
    "        num_dice = int(input(\"Enter the number of dice to roll ,(0 - quit, 1 - One dice , 2 - Two dice):\"))\n",
    "         \n",
    "        if num_dice == 0:\n",
    "            print(\"Thanks for using the Dice Rolling App. Goodbye!\")\n",
    "        elif num_dice == 1:\n",
    "            print(\"One dice is rolling\")\n",
    "        elif num_dice == 2:\n",
    "            print(\"Two dices are rolling\")\n",
    "        else:\n",
    "            print(\"Only two dices can be rolled. Thank you! \")\n",
    "            break\n",
    "            \n",
    "        results = roll_dice(num_dice)\n",
    "        print(\"Dice Roll Result:\", results)\n",
    "    \n",
    "\n",
    "if __name__ == \"__main__\":\n",
    "    main()"
   ]
  }
 ],
 "metadata": {
  "kernelspec": {
   "display_name": "Python 3 (ipykernel)",
   "language": "python",
   "name": "python3"
  },
  "language_info": {
   "codemirror_mode": {
    "name": "ipython",
    "version": 3
   },
   "file_extension": ".py",
   "mimetype": "text/x-python",
   "name": "python",
   "nbconvert_exporter": "python",
   "pygments_lexer": "ipython3",
   "version": "3.11.4"
  }
 },
 "nbformat": 4,
 "nbformat_minor": 5
}
